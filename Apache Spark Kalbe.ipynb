{
 "cells": [
  {
   "cell_type": "code",
   "execution_count": 1,
   "metadata": {},
   "outputs": [],
   "source": [
    "import findspark\n",
    "findspark.init()\n",
    "from pyspark import SparkConf, SparkContext \n",
    "from pyspark.sql import SparkSession"
   ]
  },
  {
   "cell_type": "markdown",
   "metadata": {},
   "source": [
    "# Setup spark context"
   ]
  },
  {
   "cell_type": "code",
   "execution_count": 2,
   "metadata": {},
   "outputs": [],
   "source": [
    "conf = SparkConf().setAppName('hello').setMaster('local')\n",
    "sc = SparkContext(conf=conf)"
   ]
  },
  {
   "cell_type": "markdown",
   "metadata": {},
   "source": [
    "# Paralize Example"
   ]
  },
  {
   "cell_type": "code",
   "execution_count": 3,
   "metadata": {},
   "outputs": [
    {
     "data": {
      "text/plain": [
       "8"
      ]
     },
     "execution_count": 3,
     "metadata": {},
     "output_type": "execute_result"
    }
   ],
   "source": [
    "words = sc.parallelize (\n",
    "   [\"scala\", \n",
    "   \"java\", \n",
    "   \"hadoop\", \n",
    "   \"spark\", \n",
    "   \"akka\",\n",
    "   \"spark vs hadoop\", \n",
    "   \"pyspark\",\n",
    "   \"pyspark and spark\"]\n",
    ")\n",
    "counts = words.count()\n",
    "counts"
   ]
  },
  {
   "cell_type": "markdown",
   "metadata": {},
   "source": [
    "# RDD Example"
   ]
  },
  {
   "cell_type": "code",
   "execution_count": 4,
   "metadata": {},
   "outputs": [],
   "source": [
    "pathFile = \"wine-data.csv\"\n",
    "rdd = sc.textFile(pathFile)"
   ]
  },
  {
   "cell_type": "code",
   "execution_count": 5,
   "metadata": {},
   "outputs": [
    {
     "data": {
      "text/plain": [
       "[';country;description;designation;points;price;province;region_1;region_2;taster_name;taster_twitter_handle;title;variety;winery']"
      ]
     },
     "execution_count": 5,
     "metadata": {},
     "output_type": "execute_result"
    }
   ],
   "source": [
    "rdd.take(1)"
   ]
  },
  {
   "cell_type": "markdown",
   "metadata": {},
   "source": [
    "### 1.Count wine data point > 90"
   ]
  },
  {
   "cell_type": "code",
   "execution_count": 24,
   "metadata": {},
   "outputs": [
    {
     "data": {
      "text/plain": [
       "4495"
      ]
     },
     "execution_count": 24,
     "metadata": {},
     "output_type": "execute_result"
    }
   ],
   "source": [
    "def mapFloat(stringData,index):\n",
    "    stringData = stringData.split(\";\")\n",
    "    try:\n",
    "        data = float(stringData[index])\n",
    "    except:\n",
    "        data = 0.0\n",
    "        stringData[5]=str(data)\n",
    "    return stringData\n",
    "\n",
    "rddHeaderRemoved = rdd.filter(lambda lines: lines.split(\";\")[1] != \"country\")\n",
    "rddLowerCase = rddHeaderRemoved.map(lambda sentences: sentences.lower())\n",
    "rddLowerCase.filter(lambda data: data.split(\";\")[5] != \"\" ). \\\n",
    "    filter(lambda data: data.split(\";\")[5]).map(mapFloat). \\\n",
    "    filter(lambda data : float(data[5]) > 90).count()"
   ]
  },
  {
   "cell_type": "markdown",
   "metadata": {},
   "source": [
    "### 2.Most grape type for make wine"
   ]
  },
  {
   "cell_type": "code",
   "execution_count": 81,
   "metadata": {},
   "outputs": [
    {
     "data": {
      "text/plain": [
       "[('pinot noir', 12978),\n",
       " ('chardonnay', 11513),\n",
       " ('cabernet sauvignon', 9180),\n",
       " ('red blend', 8685),\n",
       " ('bordeaux-style red blend', 6792)]"
      ]
     },
     "execution_count": 81,
     "metadata": {},
     "output_type": "execute_result"
    }
   ],
   "source": [
    "rddLowerCase.map(lambda data: (data.split(\";\")[12],1)).groupByKey(). \\\n",
    "    mapValues(sum).sortBy(lambda value: value[1],ascending= False). \\\n",
    "    take(5)"
   ]
  },
  {
   "cell_type": "markdown",
   "metadata": {},
   "source": [
    "### 3.Most grape type and provienci for make wine"
   ]
  },
  {
   "cell_type": "code",
   "execution_count": 84,
   "metadata": {},
   "outputs": [
    {
     "data": {
      "text/plain": [
       "[('pinot noir,california', 6824),\n",
       " ('cabernet sauvignon,california', 5591),\n",
       " ('chardonnay,california', 5142),\n",
       " ('bordeaux-style red blend,bordeaux', 4547),\n",
       " ('pinot noir,oregon', 2657)]"
      ]
     },
     "execution_count": 84,
     "metadata": {},
     "output_type": "execute_result"
    }
   ],
   "source": [
    "from operator import add\n",
    "rddLowerCase.map(lambda data: (data.split(\";\")[12]+\",\"+data.split(\";\")[6],1)). \\\n",
    "    groupByKey().mapValues(sum).sortBy(lambda value: value[1],ascending= False). \\\n",
    "    filter(lambda value: value[0] != \",\").take(5)"
   ]
  },
  {
   "cell_type": "code",
   "execution_count": null,
   "metadata": {},
   "outputs": [],
   "source": []
  }
 ],
 "metadata": {
  "kernelspec": {
   "display_name": "Python 3",
   "language": "python",
   "name": "python3"
  },
  "language_info": {
   "codemirror_mode": {
    "name": "ipython",
    "version": 3
   },
   "file_extension": ".py",
   "mimetype": "text/x-python",
   "name": "python",
   "nbconvert_exporter": "python",
   "pygments_lexer": "ipython3",
   "version": "3.6.8"
  }
 },
 "nbformat": 4,
 "nbformat_minor": 4
}
